{
 "cells": [
  {
   "cell_type": "code",
   "execution_count": null,
   "id": "5e66640e-8fac-43e2-818f-ad6fb9c8cda2",
   "metadata": {},
   "outputs": [],
   "source": [
    "dfFarol200.write.options(header='True', delimiter=',') \\\n",
    " .csv(\"Data/preprocessado/dfFarol200\")"
   ]
  },
  {
   "cell_type": "code",
   "execution_count": null,
   "id": "2ef9d61b-c809-48e3-a5cf-9c4acd2bdb0e",
   "metadata": {},
   "outputs": [],
   "source": [
    "informacoes_necessarias = ['Total de Chuvas(mm)','Média diária de chuvas(mm)']\n",
    "\n",
    "assembler = VectorAssembler(inputCols=informacoes_necessarias, outputCol='informacoes')\n",
    "\n",
    "dfFarol200 = assembler.transform(Farol200)"
   ]
  }
 ],
 "metadata": {
  "kernelspec": {
   "display_name": "Python 3 (ipykernel)",
   "language": "python",
   "name": "python3"
  },
  "language_info": {
   "codemirror_mode": {
    "name": "ipython",
    "version": 3
   },
   "file_extension": ".py",
   "mimetype": "text/x-python",
   "name": "python",
   "nbconvert_exporter": "python",
   "pygments_lexer": "ipython3",
   "version": "3.11.4"
  }
 },
 "nbformat": 4,
 "nbformat_minor": 5
}
