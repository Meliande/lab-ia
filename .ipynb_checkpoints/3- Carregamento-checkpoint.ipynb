{
 "cells": [
  {
   "cell_type": "code",
   "execution_count": 8,
   "id": "173b7928-272f-4a27-823b-cc3884627697",
   "metadata": {
    "tags": []
   },
   "outputs": [],
   "source": [
    "from pyspark.ml.classification import RandomForestClassificationModel, DecisionTreeClassificationModel, GBTClassificationModel\n",
    "from pyspark.sql.types import StructType,StructField, StringType, IntegerType, FloatType\n",
    "from pyspark.ml import Pipeline\n",
    "from pyspark.sql import Row\n",
    "from pyspark.sql.functions import *\n",
    "from pyspark.sql import SparkSession\n",
    "from pyspark.sql.types import DoubleType\n",
    "from pyspark.ml.evaluation import MulticlassClassificationEvaluator\n",
    "from pyspark.ml.feature import StringIndexer, VectorIndexer, VectorAssembler\n",
    "\n",
    "spark = SparkSession \\\n",
    "    .builder \\\n",
    "    .appName(\"ML Pipeline\") \\\n",
    "    .getOrCreate()\n",
    "\n",
    "sc = SparkContext.getOrCreate();\n",
    "\n",
    "rfModel = RandomForestClassificationModel.load(\"models/rf\")\n",
    "dtModel = DecisionTreeClassificationModel.load(\"models/dt\")\n",
    "gbtModel = GBTClassificationModel.load(\"models/gbt\")"
   ]
  },
  {
   "cell_type": "code",
   "execution_count": 9,
   "id": "e0d8b44a-4f31-49bf-9fac-663dad9dea9a",
   "metadata": {
    "tags": []
   },
   "outputs": [
    {
     "data": {
      "text/html": [
       "<div>\n",
       "<style scoped>\n",
       "    .dataframe tbody tr th:only-of-type {\n",
       "        vertical-align: middle;\n",
       "    }\n",
       "\n",
       "    .dataframe tbody tr th {\n",
       "        vertical-align: top;\n",
       "    }\n",
       "\n",
       "    .dataframe thead th {\n",
       "        text-align: right;\n",
       "    }\n",
       "</style>\n",
       "<table border=\"1\" class=\"dataframe\">\n",
       "  <thead>\n",
       "    <tr style=\"text-align: right;\">\n",
       "      <th></th>\n",
       "      <th>Total de Chuvas(mm)</th>\n",
       "      <th>Média diária de chuvas(mm)</th>\n",
       "    </tr>\n",
       "  </thead>\n",
       "  <tbody>\n",
       "    <tr>\n",
       "      <th>0</th>\n",
       "      <td>60.5</td>\n",
       "      <td>8.0</td>\n",
       "    </tr>\n",
       "  </tbody>\n",
       "</table>\n",
       "</div>"
      ],
      "text/plain": [
       "   Total de Chuvas(mm)  Média diária de chuvas(mm)\n",
       "0                 60.5                         8.0"
      ]
     },
     "execution_count": 9,
     "metadata": {},
     "output_type": "execute_result"
    }
   ],
   "source": [
    "data = [\n",
    "    (60.50,8.0),\n",
    "  ]\n",
    "\n",
    "schema = StructType([ \\\n",
    "    StructField(\"Total de Chuvas(mm)\",FloatType(),True), \\\n",
    "    StructField(\"Média diária de chuvas(mm)\",FloatType(),True), \\\n",
    "  ])\n",
    " \n",
    "df = spark.createDataFrame(data=data,schema=schema)\n",
    "df.toPandas()"
   ]
  },
  {
   "cell_type": "code",
   "execution_count": 10,
   "id": "c3d2509c-5811-4359-919b-3041bc5f4b36",
   "metadata": {
    "tags": []
   },
   "outputs": [
    {
     "data": {
      "text/html": [
       "<div>\n",
       "<style scoped>\n",
       "    .dataframe tbody tr th:only-of-type {\n",
       "        vertical-align: middle;\n",
       "    }\n",
       "\n",
       "    .dataframe tbody tr th {\n",
       "        vertical-align: top;\n",
       "    }\n",
       "\n",
       "    .dataframe thead th {\n",
       "        text-align: right;\n",
       "    }\n",
       "</style>\n",
       "<table border=\"1\" class=\"dataframe\">\n",
       "  <thead>\n",
       "    <tr style=\"text-align: right;\">\n",
       "      <th></th>\n",
       "      <th>Total de Chuvas(mm)</th>\n",
       "      <th>Média diária de chuvas(mm)</th>\n",
       "      <th>informacoes</th>\n",
       "    </tr>\n",
       "  </thead>\n",
       "  <tbody>\n",
       "    <tr>\n",
       "      <th>0</th>\n",
       "      <td>60.5</td>\n",
       "      <td>8.0</td>\n",
       "      <td>[60.5, 8.0]</td>\n",
       "    </tr>\n",
       "  </tbody>\n",
       "</table>\n",
       "</div>"
      ],
      "text/plain": [
       "   Total de Chuvas(mm)  Média diária de chuvas(mm)  informacoes\n",
       "0                 60.5                         8.0  [60.5, 8.0]"
      ]
     },
     "execution_count": 10,
     "metadata": {},
     "output_type": "execute_result"
    }
   ],
   "source": [
    "informacoes_necessarias = ['Total de Chuvas(mm)','Média diária de chuvas(mm)']\n",
    "assembler = VectorAssembler(inputCols=informacoes_necessarias, outputCol='informacoes')\n",
    "df = assembler.transform(df)\n",
    "df.toPandas()"
   ]
  },
  {
   "cell_type": "code",
   "execution_count": 4,
   "id": "ca17492a-bbab-4f1a-aecc-851f43237baf",
   "metadata": {
    "tags": []
   },
   "outputs": [
    {
     "data": {
      "text/html": [
       "<div>\n",
       "<style scoped>\n",
       "    .dataframe tbody tr th:only-of-type {\n",
       "        vertical-align: middle;\n",
       "    }\n",
       "\n",
       "    .dataframe tbody tr th {\n",
       "        vertical-align: top;\n",
       "    }\n",
       "\n",
       "    .dataframe thead th {\n",
       "        text-align: right;\n",
       "    }\n",
       "</style>\n",
       "<table border=\"1\" class=\"dataframe\">\n",
       "  <thead>\n",
       "    <tr style=\"text-align: right;\">\n",
       "      <th></th>\n",
       "      <th>Total de Chuvas(mm)</th>\n",
       "      <th>Média diária de chuvas(mm)</th>\n",
       "      <th>informacoes</th>\n",
       "      <th>rawPrediction</th>\n",
       "      <th>probability</th>\n",
       "      <th>prediction</th>\n",
       "    </tr>\n",
       "  </thead>\n",
       "  <tbody>\n",
       "    <tr>\n",
       "      <th>0</th>\n",
       "      <td>60.5</td>\n",
       "      <td>8.0</td>\n",
       "      <td>[60.5, 8.0]</td>\n",
       "      <td>[13.609434295118515, 6.390565704881484, 0.0, 0.0]</td>\n",
       "      <td>[0.6804717147559257, 0.31952828524407423, 0.0,...</td>\n",
       "      <td>0.0</td>\n",
       "    </tr>\n",
       "  </tbody>\n",
       "</table>\n",
       "</div>"
      ],
      "text/plain": [
       "   Total de Chuvas(mm)  Média diária de chuvas(mm)  informacoes  \\\n",
       "0                 60.5                         8.0  [60.5, 8.0]   \n",
       "\n",
       "                                       rawPrediction  \\\n",
       "0  [13.609434295118515, 6.390565704881484, 0.0, 0.0]   \n",
       "\n",
       "                                         probability  prediction  \n",
       "0  [0.6804717147559257, 0.31952828524407423, 0.0,...         0.0  "
      ]
     },
     "execution_count": 4,
     "metadata": {},
     "output_type": "execute_result"
    }
   ],
   "source": [
    "testeRF = rfModel.transform(df)\n",
    "testeRF.toPandas()"
   ]
  },
  {
   "cell_type": "code",
   "execution_count": 5,
   "id": "7fb2eee8-829b-4343-be37-d192df0a8bb7",
   "metadata": {},
   "outputs": [
    {
     "data": {
      "text/html": [
       "<div>\n",
       "<style scoped>\n",
       "    .dataframe tbody tr th:only-of-type {\n",
       "        vertical-align: middle;\n",
       "    }\n",
       "\n",
       "    .dataframe tbody tr th {\n",
       "        vertical-align: top;\n",
       "    }\n",
       "\n",
       "    .dataframe thead th {\n",
       "        text-align: right;\n",
       "    }\n",
       "</style>\n",
       "<table border=\"1\" class=\"dataframe\">\n",
       "  <thead>\n",
       "    <tr style=\"text-align: right;\">\n",
       "      <th></th>\n",
       "      <th>Total de Chuvas(mm)</th>\n",
       "      <th>Média diária de chuvas(mm)</th>\n",
       "      <th>informacoes</th>\n",
       "      <th>rawPrediction</th>\n",
       "      <th>probability</th>\n",
       "      <th>prediction</th>\n",
       "    </tr>\n",
       "  </thead>\n",
       "  <tbody>\n",
       "    <tr>\n",
       "      <th>0</th>\n",
       "      <td>60.5</td>\n",
       "      <td>8.0</td>\n",
       "      <td>[60.5, 8.0]</td>\n",
       "      <td>[67.0, 35.0, 0.0, 0.0]</td>\n",
       "      <td>[0.6568627450980392, 0.3431372549019608, 0.0, ...</td>\n",
       "      <td>0.0</td>\n",
       "    </tr>\n",
       "  </tbody>\n",
       "</table>\n",
       "</div>"
      ],
      "text/plain": [
       "   Total de Chuvas(mm)  Média diária de chuvas(mm)  informacoes  \\\n",
       "0                 60.5                         8.0  [60.5, 8.0]   \n",
       "\n",
       "            rawPrediction                                        probability  \\\n",
       "0  [67.0, 35.0, 0.0, 0.0]  [0.6568627450980392, 0.3431372549019608, 0.0, ...   \n",
       "\n",
       "   prediction  \n",
       "0         0.0  "
      ]
     },
     "execution_count": 5,
     "metadata": {},
     "output_type": "execute_result"
    }
   ],
   "source": [
    "testeDT = dtModel.transform(df)\n",
    "testeDT.toPandas()"
   ]
  },
  {
   "cell_type": "code",
   "execution_count": 6,
   "id": "d536a512-306b-4d00-9dfb-fcefbb15e942",
   "metadata": {},
   "outputs": [
    {
     "data": {
      "text/html": [
       "<div>\n",
       "<style scoped>\n",
       "    .dataframe tbody tr th:only-of-type {\n",
       "        vertical-align: middle;\n",
       "    }\n",
       "\n",
       "    .dataframe tbody tr th {\n",
       "        vertical-align: top;\n",
       "    }\n",
       "\n",
       "    .dataframe thead th {\n",
       "        text-align: right;\n",
       "    }\n",
       "</style>\n",
       "<table border=\"1\" class=\"dataframe\">\n",
       "  <thead>\n",
       "    <tr style=\"text-align: right;\">\n",
       "      <th></th>\n",
       "      <th>Total de Chuvas(mm)</th>\n",
       "      <th>Média diária de chuvas(mm)</th>\n",
       "      <th>informacoes</th>\n",
       "      <th>rawPrediction</th>\n",
       "      <th>probability</th>\n",
       "      <th>prediction</th>\n",
       "    </tr>\n",
       "  </thead>\n",
       "  <tbody>\n",
       "    <tr>\n",
       "      <th>0</th>\n",
       "      <td>60.5</td>\n",
       "      <td>8.0</td>\n",
       "      <td>[60.5, 8.0]</td>\n",
       "      <td>[0.48951153222269056, -0.48951153222269056]</td>\n",
       "      <td>[0.7269143279705572, 0.2730856720294428]</td>\n",
       "      <td>0.0</td>\n",
       "    </tr>\n",
       "  </tbody>\n",
       "</table>\n",
       "</div>"
      ],
      "text/plain": [
       "   Total de Chuvas(mm)  Média diária de chuvas(mm)  informacoes  \\\n",
       "0                 60.5                         8.0  [60.5, 8.0]   \n",
       "\n",
       "                                 rawPrediction  \\\n",
       "0  [0.48951153222269056, -0.48951153222269056]   \n",
       "\n",
       "                                probability  prediction  \n",
       "0  [0.7269143279705572, 0.2730856720294428]         0.0  "
      ]
     },
     "execution_count": 6,
     "metadata": {},
     "output_type": "execute_result"
    }
   ],
   "source": [
    "testeGBT = gbtModel.transform(df)\n",
    "testeGBT.toPandas()"
   ]
  },
  {
   "cell_type": "code",
   "execution_count": 11,
   "id": "957c2538-bc5b-4844-8785-55622e7708a9",
   "metadata": {
    "tags": []
   },
   "outputs": [
    {
     "name": "stdout",
     "output_type": "stream",
     "text": [
      "A previsão RF é 0.0 : Própria\n"
     ]
    }
   ],
   "source": [
    "saidaRF = (testeRF.first()['prediction'])\n",
    "\n",
    "if saidaRF == 0.0 :\n",
    "    print(\"A previsão RF é\", saidaRF, \": Própria\")\n",
    "else:\n",
    "    print(\"A previsão RF é\", saidaRF, \": Imprópria\")"
   ]
  },
  {
   "cell_type": "code",
   "execution_count": 12,
   "id": "5bf8f128-d54b-4845-8e0d-215321d5ee91",
   "metadata": {},
   "outputs": [
    {
     "name": "stdout",
     "output_type": "stream",
     "text": [
      "A previsão DT é 0.0 : Própria\n"
     ]
    }
   ],
   "source": [
    "saidaDT = (testeDT.first()['prediction'])\n",
    "\n",
    "if saidaDT == 0.0 :\n",
    "    print(\"A previsão DT é\", saidaDT, \": Própria\")\n",
    "else:\n",
    "    print(\"A previsão DT é\", saidaDT, \": Imprópria\")"
   ]
  },
  {
   "cell_type": "code",
   "execution_count": 13,
   "id": "316ff021-557a-450b-b9aa-87333ff3565a",
   "metadata": {},
   "outputs": [
    {
     "name": "stdout",
     "output_type": "stream",
     "text": [
      "A previsão GBT é 0.0 : Própria\n"
     ]
    }
   ],
   "source": [
    "saidaGBT = (testeGBT.first()['prediction'])\n",
    "\n",
    "if saidaGBT == 0.0 :\n",
    "    print(\"A previsão GBT é\", saidaGBT, \": Própria\")\n",
    "else:\n",
    "    print(\"A previsão GBT é\", saidaGBT, \": Imprópria\")"
   ]
  },
  {
   "cell_type": "code",
   "execution_count": null,
   "id": "2df0c2f7-8153-48c1-afc9-f6d856548fa9",
   "metadata": {},
   "outputs": [],
   "source": []
  }
 ],
 "metadata": {
  "kernelspec": {
   "display_name": "Python 3 (ipykernel)",
   "language": "python",
   "name": "python3"
  },
  "language_info": {
   "codemirror_mode": {
    "name": "ipython",
    "version": 3
   },
   "file_extension": ".py",
   "mimetype": "text/x-python",
   "name": "python",
   "nbconvert_exporter": "python",
   "pygments_lexer": "ipython3",
   "version": "3.10.6"
  }
 },
 "nbformat": 4,
 "nbformat_minor": 5
}
